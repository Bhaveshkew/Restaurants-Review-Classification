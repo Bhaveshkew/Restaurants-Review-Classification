{
 "cells": [
  {
   "cell_type": "code",
   "execution_count": 1,
   "id": "211e0dbf",
   "metadata": {},
   "outputs": [],
   "source": [
    "import numpy as np\n",
    "import pandas as pd\n",
    "import matplotlib.pyplot as plt\n",
    "import seaborn as sns"
   ]
  },
  {
   "cell_type": "code",
   "execution_count": 2,
   "id": "f9510238",
   "metadata": {},
   "outputs": [],
   "source": [
    "dataset=pd.read_csv('Restaurant_Reviews.tsv',delimiter='\\t', quoting=3)"
   ]
  },
  {
   "cell_type": "code",
   "execution_count": 3,
   "id": "d710af9e",
   "metadata": {},
   "outputs": [
    {
     "data": {
      "text/html": [
       "<div>\n",
       "<style scoped>\n",
       "    .dataframe tbody tr th:only-of-type {\n",
       "        vertical-align: middle;\n",
       "    }\n",
       "\n",
       "    .dataframe tbody tr th {\n",
       "        vertical-align: top;\n",
       "    }\n",
       "\n",
       "    .dataframe thead th {\n",
       "        text-align: right;\n",
       "    }\n",
       "</style>\n",
       "<table border=\"1\" class=\"dataframe\">\n",
       "  <thead>\n",
       "    <tr style=\"text-align: right;\">\n",
       "      <th></th>\n",
       "      <th>Review</th>\n",
       "      <th>Liked</th>\n",
       "    </tr>\n",
       "  </thead>\n",
       "  <tbody>\n",
       "    <tr>\n",
       "      <th>0</th>\n",
       "      <td>Wow... Loved this place.</td>\n",
       "      <td>1</td>\n",
       "    </tr>\n",
       "    <tr>\n",
       "      <th>1</th>\n",
       "      <td>Crust is not good.</td>\n",
       "      <td>0</td>\n",
       "    </tr>\n",
       "    <tr>\n",
       "      <th>2</th>\n",
       "      <td>Not tasty and the texture was just nasty.</td>\n",
       "      <td>0</td>\n",
       "    </tr>\n",
       "    <tr>\n",
       "      <th>3</th>\n",
       "      <td>Stopped by during the late May bank holiday of...</td>\n",
       "      <td>1</td>\n",
       "    </tr>\n",
       "    <tr>\n",
       "      <th>4</th>\n",
       "      <td>The selection on the menu was great and so wer...</td>\n",
       "      <td>1</td>\n",
       "    </tr>\n",
       "  </tbody>\n",
       "</table>\n",
       "</div>"
      ],
      "text/plain": [
       "                                              Review  Liked\n",
       "0                           Wow... Loved this place.      1\n",
       "1                                 Crust is not good.      0\n",
       "2          Not tasty and the texture was just nasty.      0\n",
       "3  Stopped by during the late May bank holiday of...      1\n",
       "4  The selection on the menu was great and so wer...      1"
      ]
     },
     "execution_count": 3,
     "metadata": {},
     "output_type": "execute_result"
    }
   ],
   "source": [
    "dataset.head()"
   ]
  },
  {
   "cell_type": "code",
   "execution_count": 4,
   "id": "de2938c4",
   "metadata": {},
   "outputs": [
    {
     "data": {
      "text/plain": [
       "(1000, 2)"
      ]
     },
     "execution_count": 4,
     "metadata": {},
     "output_type": "execute_result"
    }
   ],
   "source": [
    "dataset.shape"
   ]
  },
  {
   "cell_type": "code",
   "execution_count": 5,
   "id": "fc8789df",
   "metadata": {},
   "outputs": [
    {
     "name": "stdout",
     "output_type": "stream",
     "text": [
      "<class 'pandas.core.frame.DataFrame'>\n",
      "RangeIndex: 1000 entries, 0 to 999\n",
      "Data columns (total 2 columns):\n",
      " #   Column  Non-Null Count  Dtype \n",
      "---  ------  --------------  ----- \n",
      " 0   Review  1000 non-null   object\n",
      " 1   Liked   1000 non-null   int64 \n",
      "dtypes: int64(1), object(1)\n",
      "memory usage: 15.8+ KB\n"
     ]
    }
   ],
   "source": [
    "dataset.info()"
   ]
  },
  {
   "cell_type": "code",
   "execution_count": 6,
   "id": "44f44e53",
   "metadata": {},
   "outputs": [
    {
     "data": {
      "text/plain": [
       "Index(['Review', 'Liked'], dtype='object')"
      ]
     },
     "execution_count": 6,
     "metadata": {},
     "output_type": "execute_result"
    }
   ],
   "source": [
    "dataset.columns"
   ]
  },
  {
   "cell_type": "code",
   "execution_count": 7,
   "id": "1f0b9853",
   "metadata": {},
   "outputs": [
    {
     "data": {
      "text/html": [
       "<div>\n",
       "<style scoped>\n",
       "    .dataframe tbody tr th:only-of-type {\n",
       "        vertical-align: middle;\n",
       "    }\n",
       "\n",
       "    .dataframe tbody tr th {\n",
       "        vertical-align: top;\n",
       "    }\n",
       "\n",
       "    .dataframe thead th {\n",
       "        text-align: right;\n",
       "    }\n",
       "</style>\n",
       "<table border=\"1\" class=\"dataframe\">\n",
       "  <thead>\n",
       "    <tr style=\"text-align: right;\">\n",
       "      <th></th>\n",
       "      <th>Liked</th>\n",
       "    </tr>\n",
       "  </thead>\n",
       "  <tbody>\n",
       "    <tr>\n",
       "      <th>count</th>\n",
       "      <td>1000.00000</td>\n",
       "    </tr>\n",
       "    <tr>\n",
       "      <th>mean</th>\n",
       "      <td>0.50000</td>\n",
       "    </tr>\n",
       "    <tr>\n",
       "      <th>std</th>\n",
       "      <td>0.50025</td>\n",
       "    </tr>\n",
       "    <tr>\n",
       "      <th>min</th>\n",
       "      <td>0.00000</td>\n",
       "    </tr>\n",
       "    <tr>\n",
       "      <th>25%</th>\n",
       "      <td>0.00000</td>\n",
       "    </tr>\n",
       "    <tr>\n",
       "      <th>50%</th>\n",
       "      <td>0.50000</td>\n",
       "    </tr>\n",
       "    <tr>\n",
       "      <th>75%</th>\n",
       "      <td>1.00000</td>\n",
       "    </tr>\n",
       "    <tr>\n",
       "      <th>max</th>\n",
       "      <td>1.00000</td>\n",
       "    </tr>\n",
       "  </tbody>\n",
       "</table>\n",
       "</div>"
      ],
      "text/plain": [
       "            Liked\n",
       "count  1000.00000\n",
       "mean      0.50000\n",
       "std       0.50025\n",
       "min       0.00000\n",
       "25%       0.00000\n",
       "50%       0.50000\n",
       "75%       1.00000\n",
       "max       1.00000"
      ]
     },
     "execution_count": 7,
     "metadata": {},
     "output_type": "execute_result"
    }
   ],
   "source": [
    "dataset.describe()"
   ]
  },
  {
   "cell_type": "code",
   "execution_count": 8,
   "id": "4b023fe4",
   "metadata": {},
   "outputs": [
    {
     "data": {
      "text/plain": [
       "False"
      ]
     },
     "execution_count": 8,
     "metadata": {},
     "output_type": "execute_result"
    }
   ],
   "source": [
    "dataset.isnull().values.any()"
   ]
  },
  {
   "cell_type": "code",
   "execution_count": 9,
   "id": "7dc3708b",
   "metadata": {},
   "outputs": [
    {
     "name": "stderr",
     "output_type": "stream",
     "text": [
      "C:\\anaconda3\\lib\\site-packages\\seaborn\\_decorators.py:36: FutureWarning: Pass the following variable as a keyword arg: x. From version 0.12, the only valid positional argument will be `data`, and passing other arguments without an explicit keyword will result in an error or misinterpretation.\n",
      "  warnings.warn(\n"
     ]
    },
    {
     "data": {
      "text/plain": [
       "<AxesSubplot:xlabel='Liked', ylabel='count'>"
      ]
     },
     "execution_count": 9,
     "metadata": {},
     "output_type": "execute_result"
    },
    {
     "data": {
      "image/png": "[encoded data removed]",
      "text/plain": [
       "<Figure size 432x288 with 1 Axes>"
      ]
     },
     "metadata": {
      "needs_background": "light"
     },
     "output_type": "display_data"
    }
   ],
   "source": [
    "sns.countplot(dataset['Liked'])"
   ]
  },
  {
   "cell_type": "code",
   "execution_count": 10,
   "id": "442c6289",
   "metadata": {},
   "outputs": [
    {
     "data": {
      "text/plain": [
       "500"
      ]
     },
     "execution_count": 10,
     "metadata": {},
     "output_type": "execute_result"
    }
   ],
   "source": [
    "(dataset.Liked==1).sum()"
   ]
  },
  {
   "cell_type": "code",
   "execution_count": 11,
   "id": "7a5d1b96",
   "metadata": {},
   "outputs": [
    {
     "data": {
      "text/plain": [
       "500"
      ]
     },
     "execution_count": 11,
     "metadata": {},
     "output_type": "execute_result"
    }
   ],
   "source": [
    "(dataset.Liked==0).sum()"
   ]
  },
  {
   "cell_type": "code",
   "execution_count": 12,
   "id": "bbddb822",
   "metadata": {},
   "outputs": [],
   "source": [
    "dataset['Length']=dataset['Review'].apply(len)"
   ]
  },
  {
   "cell_type": "code",
   "execution_count": 13,
   "id": "2b658271",
   "metadata": {},
   "outputs": [
    {
     "data": {
      "text/html": [
       "<div>\n",
       "<style scoped>\n",
       "    .dataframe tbody tr th:only-of-type {\n",
       "        vertical-align: middle;\n",
       "    }\n",
       "\n",
       "    .dataframe tbody tr th {\n",
       "        vertical-align: top;\n",
       "    }\n",
       "\n",
       "    .dataframe thead th {\n",
       "        text-align: right;\n",
       "    }\n",
       "</style>\n",
       "<table border=\"1\" class=\"dataframe\">\n",
       "  <thead>\n",
       "    <tr style=\"text-align: right;\">\n",
       "      <th></th>\n",
       "      <th>Review</th>\n",
       "      <th>Liked</th>\n",
       "      <th>Length</th>\n",
       "    </tr>\n",
       "  </thead>\n",
       "  <tbody>\n",
       "    <tr>\n",
       "      <th>0</th>\n",
       "      <td>Wow... Loved this place.</td>\n",
       "      <td>1</td>\n",
       "      <td>24</td>\n",
       "    </tr>\n",
       "    <tr>\n",
       "      <th>1</th>\n",
       "      <td>Crust is not good.</td>\n",
       "      <td>0</td>\n",
       "      <td>18</td>\n",
       "    </tr>\n",
       "    <tr>\n",
       "      <th>2</th>\n",
       "      <td>Not tasty and the texture was just nasty.</td>\n",
       "      <td>0</td>\n",
       "      <td>41</td>\n",
       "    </tr>\n",
       "    <tr>\n",
       "      <th>3</th>\n",
       "      <td>Stopped by during the late May bank holiday of...</td>\n",
       "      <td>1</td>\n",
       "      <td>87</td>\n",
       "    </tr>\n",
       "    <tr>\n",
       "      <th>4</th>\n",
       "      <td>The selection on the menu was great and so wer...</td>\n",
       "      <td>1</td>\n",
       "      <td>59</td>\n",
       "    </tr>\n",
       "  </tbody>\n",
       "</table>\n",
       "</div>"
      ],
      "text/plain": [
       "                                              Review  Liked  Length\n",
       "0                           Wow... Loved this place.      1      24\n",
       "1                                 Crust is not good.      0      18\n",
       "2          Not tasty and the texture was just nasty.      0      41\n",
       "3  Stopped by during the late May bank holiday of...      1      87\n",
       "4  The selection on the menu was great and so wer...      1      59"
      ]
     },
     "execution_count": 13,
     "metadata": {},
     "output_type": "execute_result"
    }
   ],
   "source": [
    "dataset.head()"
   ]
  },
  {
   "cell_type": "code",
   "execution_count": 14,
   "id": "cb82cfde",
   "metadata": {},
   "outputs": [
    {
     "data": {
      "text/plain": [
       "<AxesSubplot:ylabel='Frequency'>"
      ]
     },
     "execution_count": 14,
     "metadata": {},
     "output_type": "execute_result"
    },
    {
     "data": {
      "image/png": "[encoded data removed]",
      "text/plain": [
       "<Figure size 432x288 with 1 Axes>"
      ]
     },
     "metadata": {
      "needs_background": "light"
     },
     "output_type": "display_data"
    }
   ],
   "source": [
    "dataset['Length'].plot(bins=100,kind='hist')"
   ]
  },
  {
   "cell_type": "code",
   "execution_count": 15,
   "id": "740a0997",
   "metadata": {},
   "outputs": [
    {
     "data": {
      "text/plain": [
       "count    1000.000000\n",
       "mean       58.315000\n",
       "std        32.360052\n",
       "min        11.000000\n",
       "25%        33.000000\n",
       "50%        51.000000\n",
       "75%        80.000000\n",
       "max       149.000000\n",
       "Name: Length, dtype: float64"
      ]
     },
     "execution_count": 15,
     "metadata": {},
     "output_type": "execute_result"
    }
   ],
   "source": [
    "dataset.Length.describe()"
   ]
  },
  {
   "cell_type": "code",
   "execution_count": 16,
   "id": "8196a052",
   "metadata": {},
   "outputs": [
    {
     "data": {
      "text/plain": [
       "'The problem I have is that they charge $11.99 for a sandwich that is no bigger than a Subway sub (which offers better and more amount of vegetables).'"
      ]
     },
     "execution_count": 16,
     "metadata": {},
     "output_type": "execute_result"
    }
   ],
   "source": [
    "dataset[dataset['Length']==149]['Review'].iloc[0]"
   ]
  },
  {
   "cell_type": "code",
   "execution_count": 17,
   "id": "3846749d",
   "metadata": {},
   "outputs": [
    {
     "data": {
      "text/plain": [
       "'DELICIOUS!!'"
      ]
     },
     "execution_count": 17,
     "metadata": {},
     "output_type": "execute_result"
    }
   ],
   "source": [
    "dataset[dataset['Length']==11]['Review'].iloc[0]"
   ]
  },
  {
   "cell_type": "code",
   "execution_count": 18,
   "id": "e429a45d",
   "metadata": {},
   "outputs": [],
   "source": [
    "positive=dataset[dataset['Liked']==1]"
   ]
  },
  {
   "cell_type": "code",
   "execution_count": 19,
   "id": "10bac787",
   "metadata": {},
   "outputs": [],
   "source": [
    "negative=dataset[dataset['Liked']==0]"
   ]
  },
  {
   "cell_type": "code",
   "execution_count": 20,
   "id": "bdae5062",
   "metadata": {},
   "outputs": [
    {
     "data": {
      "text/html": [
       "<div>\n",
       "<style scoped>\n",
       "    .dataframe tbody tr th:only-of-type {\n",
       "        vertical-align: middle;\n",
       "    }\n",
       "\n",
       "    .dataframe tbody tr th {\n",
       "        vertical-align: top;\n",
       "    }\n",
       "\n",
       "    .dataframe thead th {\n",
       "        text-align: right;\n",
       "    }\n",
       "</style>\n",
       "<table border=\"1\" class=\"dataframe\">\n",
       "  <thead>\n",
       "    <tr style=\"text-align: right;\">\n",
       "      <th></th>\n",
       "      <th>Review</th>\n",
       "      <th>Liked</th>\n",
       "      <th>Length</th>\n",
       "    </tr>\n",
       "  </thead>\n",
       "  <tbody>\n",
       "    <tr>\n",
       "      <th>0</th>\n",
       "      <td>Wow... Loved this place.</td>\n",
       "      <td>1</td>\n",
       "      <td>24</td>\n",
       "    </tr>\n",
       "    <tr>\n",
       "      <th>3</th>\n",
       "      <td>Stopped by during the late May bank holiday of...</td>\n",
       "      <td>1</td>\n",
       "      <td>87</td>\n",
       "    </tr>\n",
       "    <tr>\n",
       "      <th>4</th>\n",
       "      <td>The selection on the menu was great and so wer...</td>\n",
       "      <td>1</td>\n",
       "      <td>59</td>\n",
       "    </tr>\n",
       "    <tr>\n",
       "      <th>8</th>\n",
       "      <td>The fries were great too.</td>\n",
       "      <td>1</td>\n",
       "      <td>25</td>\n",
       "    </tr>\n",
       "    <tr>\n",
       "      <th>9</th>\n",
       "      <td>A great touch.</td>\n",
       "      <td>1</td>\n",
       "      <td>14</td>\n",
       "    </tr>\n",
       "    <tr>\n",
       "      <th>...</th>\n",
       "      <td>...</td>\n",
       "      <td>...</td>\n",
       "      <td>...</td>\n",
       "    </tr>\n",
       "    <tr>\n",
       "      <th>899</th>\n",
       "      <td>Overall, a great experience.</td>\n",
       "      <td>1</td>\n",
       "      <td>28</td>\n",
       "    </tr>\n",
       "    <tr>\n",
       "      <th>901</th>\n",
       "      <td>Their regular toasted bread was equally satisf...</td>\n",
       "      <td>1</td>\n",
       "      <td>97</td>\n",
       "    </tr>\n",
       "    <tr>\n",
       "      <th>907</th>\n",
       "      <td>The chips and sals a here is amazing!!!!!!!!!!...</td>\n",
       "      <td>1</td>\n",
       "      <td>55</td>\n",
       "    </tr>\n",
       "    <tr>\n",
       "      <th>909</th>\n",
       "      <td>This is my new fav Vegas buffet spot.</td>\n",
       "      <td>1</td>\n",
       "      <td>37</td>\n",
       "    </tr>\n",
       "    <tr>\n",
       "      <th>922</th>\n",
       "      <td>Every time I eat here, I see caring teamwork t...</td>\n",
       "      <td>1</td>\n",
       "      <td>70</td>\n",
       "    </tr>\n",
       "  </tbody>\n",
       "</table>\n",
       "<p>500 rows × 3 columns</p>\n",
       "</div>"
      ],
      "text/plain": [
       "                                                Review  Liked  Length\n",
       "0                             Wow... Loved this place.      1      24\n",
       "3    Stopped by during the late May bank holiday of...      1      87\n",
       "4    The selection on the menu was great and so wer...      1      59\n",
       "8                            The fries were great too.      1      25\n",
       "9                                       A great touch.      1      14\n",
       "..                                                 ...    ...     ...\n",
       "899                       Overall, a great experience.      1      28\n",
       "901  Their regular toasted bread was equally satisf...      1      97\n",
       "907  The chips and sals a here is amazing!!!!!!!!!!...      1      55\n",
       "909              This is my new fav Vegas buffet spot.      1      37\n",
       "922  Every time I eat here, I see caring teamwork t...      1      70\n",
       "\n",
       "[500 rows x 3 columns]"
      ]
     },
     "execution_count": 20,
     "metadata": {},
     "output_type": "execute_result"
    }
   ],
   "source": [
    "positive"
   ]
  },
  {
   "cell_type": "code",
   "execution_count": 21,
   "id": "87ca9cd2",
   "metadata": {},
   "outputs": [
    {
     "data": {
      "text/html": [
       "<div>\n",
       "<style scoped>\n",
       "    .dataframe tbody tr th:only-of-type {\n",
       "        vertical-align: middle;\n",
       "    }\n",
       "\n",
       "    .dataframe tbody tr th {\n",
       "        vertical-align: top;\n",
       "    }\n",
       "\n",
       "    .dataframe thead th {\n",
       "        text-align: right;\n",
       "    }\n",
       "</style>\n",
       "<table border=\"1\" class=\"dataframe\">\n",
       "  <thead>\n",
       "    <tr style=\"text-align: right;\">\n",
       "      <th></th>\n",
       "      <th>Review</th>\n",
       "      <th>Liked</th>\n",
       "      <th>Length</th>\n",
       "    </tr>\n",
       "  </thead>\n",
       "  <tbody>\n",
       "    <tr>\n",
       "      <th>1</th>\n",
       "      <td>Crust is not good.</td>\n",
       "      <td>0</td>\n",
       "      <td>18</td>\n",
       "    </tr>\n",
       "    <tr>\n",
       "      <th>2</th>\n",
       "      <td>Not tasty and the texture was just nasty.</td>\n",
       "      <td>0</td>\n",
       "      <td>41</td>\n",
       "    </tr>\n",
       "    <tr>\n",
       "      <th>5</th>\n",
       "      <td>Now I am getting angry and I want my damn pho.</td>\n",
       "      <td>0</td>\n",
       "      <td>46</td>\n",
       "    </tr>\n",
       "    <tr>\n",
       "      <th>6</th>\n",
       "      <td>Honeslty it didn't taste THAT fresh.)</td>\n",
       "      <td>0</td>\n",
       "      <td>37</td>\n",
       "    </tr>\n",
       "    <tr>\n",
       "      <th>7</th>\n",
       "      <td>The potatoes were like rubber and you could te...</td>\n",
       "      <td>0</td>\n",
       "      <td>111</td>\n",
       "    </tr>\n",
       "    <tr>\n",
       "      <th>...</th>\n",
       "      <td>...</td>\n",
       "      <td>...</td>\n",
       "      <td>...</td>\n",
       "    </tr>\n",
       "    <tr>\n",
       "      <th>995</th>\n",
       "      <td>I think food should have flavor and texture an...</td>\n",
       "      <td>0</td>\n",
       "      <td>66</td>\n",
       "    </tr>\n",
       "    <tr>\n",
       "      <th>996</th>\n",
       "      <td>Appetite instantly gone.</td>\n",
       "      <td>0</td>\n",
       "      <td>24</td>\n",
       "    </tr>\n",
       "    <tr>\n",
       "      <th>997</th>\n",
       "      <td>Overall I was not impressed and would not go b...</td>\n",
       "      <td>0</td>\n",
       "      <td>50</td>\n",
       "    </tr>\n",
       "    <tr>\n",
       "      <th>998</th>\n",
       "      <td>The whole experience was underwhelming, and I ...</td>\n",
       "      <td>0</td>\n",
       "      <td>91</td>\n",
       "    </tr>\n",
       "    <tr>\n",
       "      <th>999</th>\n",
       "      <td>Then, as if I hadn't wasted enough of my life ...</td>\n",
       "      <td>0</td>\n",
       "      <td>134</td>\n",
       "    </tr>\n",
       "  </tbody>\n",
       "</table>\n",
       "<p>500 rows × 3 columns</p>\n",
       "</div>"
      ],
      "text/plain": [
       "                                                Review  Liked  Length\n",
       "1                                   Crust is not good.      0      18\n",
       "2            Not tasty and the texture was just nasty.      0      41\n",
       "5       Now I am getting angry and I want my damn pho.      0      46\n",
       "6                Honeslty it didn't taste THAT fresh.)      0      37\n",
       "7    The potatoes were like rubber and you could te...      0     111\n",
       "..                                                 ...    ...     ...\n",
       "995  I think food should have flavor and texture an...      0      66\n",
       "996                           Appetite instantly gone.      0      24\n",
       "997  Overall I was not impressed and would not go b...      0      50\n",
       "998  The whole experience was underwhelming, and I ...      0      91\n",
       "999  Then, as if I hadn't wasted enough of my life ...      0     134\n",
       "\n",
       "[500 rows x 3 columns]"
      ]
     },
     "execution_count": 21,
     "metadata": {},
     "output_type": "execute_result"
    }
   ],
   "source": [
    "negative"
   ]
  },
  {
   "cell_type": "code",
   "execution_count": 22,
   "id": "ff614de4",
   "metadata": {},
   "outputs": [
    {
     "data": {
      "text/html": [
       "<div>\n",
       "<style scoped>\n",
       "    .dataframe tbody tr th:only-of-type {\n",
       "        vertical-align: middle;\n",
       "    }\n",
       "\n",
       "    .dataframe tbody tr th {\n",
       "        vertical-align: top;\n",
       "    }\n",
       "\n",
       "    .dataframe thead th {\n",
       "        text-align: right;\n",
       "    }\n",
       "</style>\n",
       "<table border=\"1\" class=\"dataframe\">\n",
       "  <thead>\n",
       "    <tr style=\"text-align: right;\">\n",
       "      <th></th>\n",
       "      <th>Review</th>\n",
       "      <th>Liked</th>\n",
       "      <th>Length</th>\n",
       "    </tr>\n",
       "  </thead>\n",
       "  <tbody>\n",
       "    <tr>\n",
       "      <th>0</th>\n",
       "      <td>Wow... Loved this place.</td>\n",
       "      <td>1</td>\n",
       "      <td>24</td>\n",
       "    </tr>\n",
       "    <tr>\n",
       "      <th>1</th>\n",
       "      <td>Crust is not good.</td>\n",
       "      <td>0</td>\n",
       "      <td>18</td>\n",
       "    </tr>\n",
       "    <tr>\n",
       "      <th>2</th>\n",
       "      <td>Not tasty and the texture was just nasty.</td>\n",
       "      <td>0</td>\n",
       "      <td>41</td>\n",
       "    </tr>\n",
       "    <tr>\n",
       "      <th>3</th>\n",
       "      <td>Stopped by during the late May bank holiday of...</td>\n",
       "      <td>1</td>\n",
       "      <td>87</td>\n",
       "    </tr>\n",
       "    <tr>\n",
       "      <th>4</th>\n",
       "      <td>The selection on the menu was great and so wer...</td>\n",
       "      <td>1</td>\n",
       "      <td>59</td>\n",
       "    </tr>\n",
       "  </tbody>\n",
       "</table>\n",
       "</div>"
      ],
      "text/plain": [
       "                                              Review  Liked  Length\n",
       "0                           Wow... Loved this place.      1      24\n",
       "1                                 Crust is not good.      0      18\n",
       "2          Not tasty and the texture was just nasty.      0      41\n",
       "3  Stopped by during the late May bank holiday of...      1      87\n",
       "4  The selection on the menu was great and so wer...      1      59"
      ]
     },
     "execution_count": 22,
     "metadata": {},
     "output_type": "execute_result"
    }
   ],
   "source": [
    "dataset.head()"
   ]
  },
  {
   "cell_type": "code",
   "execution_count": 23,
   "id": "aab8d497",
   "metadata": {},
   "outputs": [
    {
     "name": "stderr",
     "output_type": "stream",
     "text": [
      "[nltk_data] Downloading package stopwords to\n",
      "[nltk_data]     C:\\Users\\bhave\\AppData\\Roaming\\nltk_data...\n",
      "[nltk_data]   Package stopwords is already up-to-date!\n"
     ]
    }
   ],
   "source": [
    "import re\n",
    "import nltk\n",
    "nltk.download('stopwords')\n",
    "from nltk.corpus import stopwords\n",
    "from nltk.stem.porter import PorterStemmer"
   ]
  },
  {
   "cell_type": "code",
   "execution_count": 24,
   "id": "f2fecc1c",
   "metadata": {},
   "outputs": [],
   "source": [
    "corpus=[]\n",
    "for i in range(0,1000):\n",
    "    review=re.sub('^[a-zA-Z]',' ',dataset['Review'][i])\n",
    "    review=review.lower()\n",
    "    review=review.split()\n",
    "    \n",
    "    ps=PorterStemmer()\n",
    "    all_stopwords=stopwords.words('english')\n",
    "    all_stopwords.remove('not')\n",
    "    \n",
    "    review=[ps.stem(word) for word in review if not word in set(all_stopwords)]\n",
    "    review=' '.join(review)\n",
    "    corpus.append(review)"
   ]
  },
  {
   "cell_type": "code",
   "execution_count": 25,
   "id": "b42e8338",
   "metadata": {},
   "outputs": [
    {
     "name": "stdout",
     "output_type": "stream",
     "text": [
      "['ow... love place.', 'rust not good.', 'ot tasti textur nasty.', 'top late may bank holiday rick steve recommend love it.', 'select menu great prices.', 'ow get angri want damn pho.', 'oneslti tast fresh.)', 'potato like rubber could tell made ahead time kept warmer.', 'fri great too.', 'great touch.', 'ervic prompt.', 'ould not go back.', 'cashier care ever say still end wayyy overpriced.', 'tri cape cod ravoli, chicken, cranberry...mmmm!', 'disgust pretti sure human hair.', 'shock sign indic cash only.', 'ighli recommended.', 'aitress littl slow service.', 'place not worth time, let alon vegas.', 'id not like all.', 'burritto blah!', 'food, amazing.', 'ervic also cute.', 'could care less... interior beautiful.', 'performed.', \"hat' right....th red velvet cake.....ohhh stuff good.\", '- never brought salad ask for.', 'hole wall great mexican street tacos, friendli staff.', 'ook hour get food 4 tabl restaur food luke warm, sever run around like total overwhelmed.', 'worst salmon sashimi.', 'lso combo like burger, fries, beer 23 decent deal.', 'like final blow!', 'found place accid could not happier.', 'eem like good quick place grab bite familiar pub food, favor look elsewhere.', 'verall, like place lot.', 'redeem qualiti restaur inexpensive.', 'mple portion good prices.', 'oor service, waiter made feel like stupid everi time came table.', 'first visit hiro delight!', 'ervic sucks.', 'shrimp tender moist.', 'not deal good enough would drag establish again.', 'ard judg whether side good gross melt styrofoam want eat fear get sick.', 'n posit note, server attent provid great service.', 'rozen puck disgust, worst peopl behind register.', 'thing like prime rib dessert section.', \"t' bad food damn generic.\", 'burger good beef, cook right.', 'f want sandwich go firehouse!!!!!', 'side greek salad greek dress tasty, pita hummu refreshing.', 'e order duck rare pink tender insid nice char outside.', 'e came run us realiz husband left sunglass table.', 'heir chow mein good!', 'hey horribl attitud toward customers, talk one custom enjoy food.', 'portion huge!', 'ove it...friendli servers, great food, wonder imagin menu.', 'heart attack grill downtown vega absolut flat-lin excus restaurant.', 'ot much seafood like 5 string pasta bottom.', 'salad right amount sauc not power scallop, perfectli cooked.', 'rip banana not ripped, petrifi tasteless.', 'least think refil water struggl wave 10 minutes.', 'place receiv star appetizers!!!', 'cocktail handmad delicious.', \"e'd definit go back again.\", 'e glad found place.', 'reat food service, huge portion give militari discount.', 'lway great time do gringos!', 'pdate.....w back second time still amaz', 'e got food appar never heard salt batter fish chewy.', 'great way finish great.', 'deal includ 5 tast 2 drinks, jeff went beyond expected.', '- really, realli good rice, time.', 'servic meh.', 'took 30 min get milkshake, noth chocol milk.', 'guess known place would suck, insid excalibur, use common sense.', 'scallop dish quit appal valu well.', '2 time - bad custom servic !', 'sweet potato fri good season well.', \"oday second time i'v lunch buffet pretti good.\", 'much good food vega feel cheat wast eat opportun go rice company.', \"ome like experienc underwhelm relationship parti can't wait person ask break up.\", 'alk place smell like old greas trap 2 other eating.', 'turkey roast beef bland.', 'place it!', 'pan cake everyon rave tast like sugari disast tailor palat six year old.', 'love pho spring roll oh yummi try.', 'poor batter meat ratio made chicken tender unsatisfying.', 'say food amazing!!!', 'melet die for!', 'veryth fresh delicious!', 'n summary, larg disappoint dine experience.', \"t' like realli sexi parti mouth, outrag flirt hottest person party.\", 'ever hard rock casino before, never ever step forward again!', 'est breakfast buffet!!!', 'ay bye bye tip lady!', \"e'll never go again.\", 'ill back again!', 'ood arriv quickly!', 'not good.', 'n side, cafe serv realli good food.', 'ur server fantast found wife love roast garlic bone marrow, ad extra meal anoth marrow go!', \"good thing waiter, help kept bloddi mary' coming.\", 'est buffet town, price cannot beat it.', 'love mussel cook wine reduction, duck tender, potato dish delicious.', 'one better buffet to.', 'went tigerlilli fantast afternoon!', 'food delicious, bartend attent person got great deal!', 'ambienc wonder music playing.', 'ill go back next trip out.', 'ooooo good!!', \"eal sushi lovers, let' honest - yama not good.\", 'least 40min pass us order food arriving, busy.', 'realli fantast thai restaur definit worth visit.', 'ice, spici tender.', 'ood prices.', 'heck out.', 'pretti gross!', \"'ve better atmosphere.\", 'ind hard mess steak did.', 'lthough much like look sound place, actual experi bit disappointing.', 'know place manag serv blandest food ever eaten prepar indian cuisine.', 'orst servic boot, least worries.', 'ervic fine waitress friendly.', \"guy steaks, steak love son steak best worst place said best steak he' ever eaten.\", 'e thought ventur away get good sushi, place realli hit spot night.', 'ost staff were, lack better word, bitches!', \"land... not like place number reason want wast time bad reviewing.. i'll leav that...\", 'henomen food, servic ambiance.', 'return.', \"efinit worth ventur strip pork belly, return next time i'm vegas.\", 'place way overpr mediocr food.', 'enn vodka excellent!', 'hey good select food includ massiv meatloaf sandwich, crispi chicken wrap, delish tuna melt tasti burgers.', 'manag rude.', 'elici nyc bagels, good select cream cheese, real lox caper even.', 'reat subway, fact good come everi subway not meet expectations.', 'serious solid breakfast here.', 'one best bar food vegas.', 'e extrem rude really, mani restaur would love dine weekend vegas.', 'drink never empti made realli great menu suggestions.', \"on't it!!!!\", 'waiter help friendli rare check us.', 'husband ate lunch disappoint food service.', 'nd red curri much bamboo shoot tasti me.', 'ice blanket moz top feel like done cover subpar food.', 'bathroom clean place well decorated.', 'menu alway changing, food qualiti go & servic extrem slow.', 'servic littl slow , consid serv 3 peopl server food come slow pace.', 'give 2 thumb', 'e watch waiter pay lot attent tabl ignor us.', 'fiancé came middl day greet seat right away.', 'great restaur mandalay bay.', 'e wait forti five minut vain.', 'rostini came salad stale.', 'ome highlight : great qualiti nigiri here!', 'staff friendli joint alway clean.', 'differ cut piec day still wonder tender well well flavored.', \"order voodoo pasta first time i'd realli excel pasta sinc go gluten free sever year ago.\", 'place good.', 'nfortunately, must hit bakeri leftov day everyth order stale.', 'came back today sinc reloc still not impressed.', 'seat immediately.', 'heir menu diverse, reason priced.', 'void cost!', 'estaur alway full never wait.', 'elicious!!', 'place hands-down one best place eat phoenix metro area.', 'go look good food...', \"'ve never treat bad.\", 'acon hella salty.', 'e also order spinach avocado salad, ingredi sad dress liter zero taste.', 'realli vega fine dine use be, right menu hand ladi price listed.', 'waitress friendly.', 'ordy, khao soi dish not miss curri lovers!', 'veryth menu terrif also thrill made amaz accommod vegetarian daughter.', \"erhap caught night judg reviews, i'm not inspir go back.\", 'servic leav lot desired.', 'atmospher modern hip, maintain touch coziness.', 'ot weekli haunt, definit place come back everi while.', 'e liter sat 20 minut one ask take order.', 'burger absolut flavor - meat total bland, burger overcook charcoal flavor.', 'also decid not send back waitress look like verg heart attack.', 'dress treat rudely!', 'probabl dirt.', 'ove place, hit spot want someth healthi not lack quantiti flavor.', 'order lemon raspberri ice cocktail also incredible.', 'food sucked, expect suck could imagined.', 'nterest decor.', 'hat realli like crepe station.', 'lso serv hot bread butter, home made potato chip bacon bit top....veri origin good.', 'ou watch prepar delici food!)', 'oth egg roll fantastic.', 'hen order arrived, one gyro missing.', 'salad wings, ice cream dessert left feel quit satisfied.', \"'m not realli sure joey' vote best hot dog valley reader phoenix magazine.\", 'best place go tasti bowl pho!', 'live music friday total blows.', \"'ve never insult felt disrespected.\", 'eri friendli staff.', 'worth drive.', 'heard good thing place, exceed everi hope could dream of.', 'ood great serivce!', 'warm beer help.', 'reat brunch spot.', 'ervic friendli inviting.', 'eri good lunch spot.', \"'ve live sinc 1979 first (and last) time i'v step foot place.\", 'worst experi ever.', 'ust night place.', 'side delish - mix mushrooms, yukon gold puree, white corn - beateous.', 'f bug never show would given 4 sure, side wall bug climb kitchen.', \"10 minutes, we'r wait salad realiz come time soon.\", 'friend love salmon tartar.', \"on't go back.\", 'xtreme tasty!', 'aitress good though!', 'oggi not good.', 'jamaican mojito delicious.', 'hich small not worth price.', '- food rich order accordingly.', 'shower area outsid rinse, not take full shower, unless mind nude everyon see!', 'servic bit lacking.', 'obster bisque, bussel sprouts, risotto, filet need salt pepper..and cours none tables.', 'ope bode go busi someon cook come in.', 'either cold, not enough flavor bad.', 'love bacon wrap dates.', 'unbeliev bargain!', 'folk otto alway make us feel welcom special.', '\"mains,\" also uninspired.', 'place first pho amazing!!', 'wonder experi made place must-stop whenev town again.', \"f food bad enough you, enjoy deal world' worst/annoy drunk people.\", 'eri fun chef.', 'rdere doubl cheeseburg & got singl patti fall apart (pictur uploaded) yeah, still sucks.', \"reat place coupl drink watch sport event wall cover tv's.\", \"f possibl give zero stars, they'd it.\", 'descript said \"yum yum sauce\" anoth said \"eel sauce\", yet anoth said \"spici mayo\"...wel none roll sauc them.', \"'d say would hardest decision... honestly, m' dish tast suppos tast (amazing).\", 'f not roll eye may stayed... not sure go back tri again.', 'veryon attentive, provid excel custom service.', 'orribl - wast time money.', 'ow dish quit flavourful.', 'time side restaur almost empti excuse.', '(it busi either) also, build freez cold.', 'ike review said \"you pay eat place again.\"', '-drink took close 30 minut come one point.', 'erious flavor delights, folks.', 'uch better ayc sushi place went vegas.', 'light dark enough set mood.', 'ase sub-par servic receiv effort show gratitud busi go back.', \"wner' realli great people.!\", 'noth privileg working/ there.', 'greek dress creami flavorful.', 'verall, think would take parent place made similar complaint silent felt too.', 'ow pizza good peanut sauc tasty.', 'e 7 tabl servic pretti fast.', 'antast servic here.', \"well would'v given godfath zero star possible.\", 'hey know make here.', 'eri tough short flavor!', 'hope place stick around.', 'bar vegas, not ever recal charg tap water.', 'restaur atmospher exquisite.', 'ood service, clean, inexpensive, boot!', 'seafood fresh gener portion.', 'lus, 8 bucks.', 'servic not par, either.', 'hu far, visit twice food absolut delici time.', 'ust good year ago!', 'self proclaim coffe cafe, wildli disappointed.', 'veggitarian platter world!', 'ou cant go wrong food here.', \"ou can't beat that.\", 'top place madison ironman, friendly, kind staff.', 'chef friendli good job.', \"'ve better, not dedic boba tea spots, even jenni pho.\", 'like patio servic outstanding.', 'goat taco skimp meat wow flavor!', 'think not', 'mac salad pretti bland not get again.', \"went bachi burger friend' recommend not disappointed.\", 'ervic stink here!', 'wait waited.', 'place not qualiti sushi, not qualiti restaurant.', 'would definit recommend wing well pizza.', 'reat pizza salads!', 'hing went wrong: - burn saganaki.', 'e wait hour breakfast could done 100 time better home.', 'place amazing!', 'hate disagre fellow yelpers, husband disappoint place.', 'ait 2 hour & never got either pizza mani around us came later did!', 'ust know slow.', 'staff great, food delish, incred beer selection.', 'live neighborhood disappoint back here, conveni location.', 'know pull pork could soooo delicious.', 'ou get incred fresh fish, prepar care.', 'efor go gave 1 star rate pleas know third time eat bachi burger write review.', 'love fact everyth menu worth it.', 'ever dine place!', 'food excel servic good.', 'ood beer & drink select good food selection.', 'leas stay away shrimp stir fri noodles.', 'potato chip order sad... could probabl count mani chip box probabl around 12.', 'ood realli boring.', 'ood service-check!', 'greedi corpor never see anoth dime me!', 'ill never, ever go back.', \"much i'd like go back, can't get pass atroci servic never return.\", 'n summer, dine charm outdoor patio - delightful.', 'not expect good!', 'antast food!', 'order toast english muffin came untoasted.', 'food good.', 'ever go back.', 'reat food price, high qualiti hous made.', 'bu boy hand rude.', 'point, friend basic figur place joke mind make publicli loudli known.', 'ack good bbq, lighter fare, reason price tell public back old ways.', \"nd consid two us left full happi $20, can't go wrong.\", 'bread made in-house!', 'downsid service.', \"lso, fri without doubt worst fri i'v ever had.\", 'ervic except food good reviews.', 'coupl month later, return amaz meal.', 'avorit place town shawarrrrrrma!!!!!!', 'black eye pea sweet potatoes... unreal!', 'ou disappointed.', 'hey could serv vinaigrett may make better overal dish, still good.', \"go far mani place i'v never seen restaur serv 1 egg breakfast, especi $4.00.\", 'hen mom got home immedi got sick bite salad.', 'server not pleasant deal alway honor pizza hut coupons.', 'oth truli unbeliev good, glad went back.', 'e fantast service, pleas atmosphere.', 'veryth gross.', 'love place.', 'reat servic food.', 'irst - bathroom locat dirty- seat cover not replenish & plain yucky!!!', 'burger... got \"gold standard\" $17 burger kind disappointed.', 'mg, food delicioso!', 'noth authent place.', 'spaghetti noth special whatsoever.', 'f dishes, salmon best, great.', 'veget fresh sauc feel like authent thai.', \"t' worth drive tucson!\", \"select probabl worst i'v seen vegas.....ther none.\", 'retti good beer select too.', 'place like chipotle, better.', 'lassy/warm atmosphere, fun fresh appetizers, succul steak (basebal steak!!!!!', '5 star brick oven bread app!', 'eaten multipl times, time food delicious.', 'e sat anoth ten minut final gave left.', 'e terrible!', 'veryon treat equal special.', 'take 30 min pancak eggs.', 'delicious!!!', 'n good side, staff genuin pleasant enthusiast - real treat.', \"adly, gordon ramsey' steak place shall sharpli avoid next trip vegas.\", 'alway even wonder food delicious!', \"est fish i'v ever life!\", '(the bathroom next door nice.)', 'buffet small food offer bland.', 'outstand littl restaur best food ever tasted.', 'retti cool would say.', \"efinit turn & doubt i'll back unless someon els buying.\", 'erver great job handl larg rowdi table.', 'find wast food despicable, food.', 'wife lobster bisqu soup lukewarm.', 'ould come back sushi crave vegas.', 'staff great, ambianc great.', 'e deserv 5 stars.', 'left stomach ach felt sick rest day.', 'hey drop ball.', 'dine space tiny, elegantli decor comfortable.', 'hey custom order way like, usual eggplant green bean stir fry, love it!', 'nd bean rice mediocr best.', 'est taco town far!!', 'took back money got outta there.', 'n interest part town, place amazing.', 'ude & inconsider management.', 'staff not friendly, wait time serv horrible, one even say hi first 10 minutes.', 'back.', 'hey great dinners.', 'servic outshin & definit recommend halibut.', 'food terrible.', 'ill never ever go back told mani peopl happened.', 'recommend unless car break front starving.', \"come back everi time i'm vegas.\", 'place deserv one star 90% food.', 'disgrace.', 'ef come back bowl next time', 'f want healthi authent ethic food, tri place.', 'continu come ladi night andddd date night ... highli recommend place anyon area.', 'sever time past, experi alway great.', 'e walk away stuf happi first vega buffet experience.', 'ervic excel price pretti reason consid vega locat insid crystal shop mall aria.', 'summarize... food incredible, nay, transcendant... noth bring joy quit like memori pneumat condiment dispenser.', \"'m probabl one peopl ever go ian not like it.\", 'id pizza alway hit lot great side dish option kiddos!', 'ervic perfect famili atmospher nice see.', 'ook perfect servic impeccable.', 'one simpli disappointment.', 'verall, disappoint qualiti food bouchon.', \"account know i'm get screwed!\", 'reat place eat, remind littl mom pop shop san francisco bay area.', 'oday first tast buldogi gourmet hot dog tell ever thought possible.', 'eft frustrated.', \"'ll definit soon again.\", 'ood realli good got full petti fast.', 'ervic fantastic.', 'otal wast time.', 'know kind best ice tea.', 'ome hungry, leav happi stuffed!', 'service, give stars.', 'assur disappointed.', 'take littl bad servic food sucks.', 'ave tri eat crust (teeth still sore).', 'ut complet gross out.', 'realli enjoy eat here.', 'irst time go think quickli becom regular.', 'ur server nice, even though look littl overwhelm needs, stay profession friendli end.', 'rom dinner companion told me...everyth fresh nice textur taste.', 'n ground, right next tabl large, smeared, been-stepped-in-and-tracked-everywher pile green bird poop.', \"urthermore, can't even find hour oper website!\", \"e'v tri like place 10+ time think we'r done them.\", 'hat mistak was!', 'complaints!', \"serious good pizza i'm expert/connisseur topic.\", 'aiter jerk.', 'trike 2, want rushed.', \"hese nicest restaur owner i'v ever come across.\", 'never come again.', 'e love biscuits!!!', 'ervic quick friendly.', 'rdere appet took 40 minut pizza anoth 10 minutes.', 'absolutley fantastic.', 'huge awkward 1.5lb piec cow 3/4th gristl fat.', 'efinit come back again.', 'like steiner dark feel like bar.', 'ow spici delicious.', 'f not familiar, check out.', \"'ll take busi dinner dollar elsewhere.\", \"'d love go back.\", 'nyway, fs restaur wonder breakfast/lunch.', 'oth special.', 'ach day week differ deal delicious!', 'ot mention combin pears, almond bacon big winner!', 'ill not back.', 'auc tasteless.', 'food delici spici enough, sure ask spicier prefer way.', 'ribey steak cook perfectli great mesquit flavor.', \"think we'll go back anytim soon.\", 'ood gooodd.', 'far sushi connoisseur definit tell differ good food bad food certainli bad food.', 'insulted.', 'last 3 time lunch bad.', 'chicken wing contain driest chicken meat ever eaten.', 'food good enjoy everi mouthful, enjoy relax venu coupl small famili group etc.', 'argil - think great.', 'est tater tot southwest.', 'e love place.', 'efinit not worth $3 paid.', 'vanilla ice cream creami smooth profiterol (choux) pastri fresh enough.', 'az time new spot.', 'manag worst.', 'insid realli quit nice clean.', 'food outstand price reasonable.', \"think i'll run back carly' anytim soon food.\", 'due fact took 20 minut acknowledged, anoth 35 minut get food...and kept forget things.', 'ove margaritas, too!', 'first vega buffet not disappoint.', 'eri good, though!', 'one note ventil could use upgrading.', 'reat pork sandwich.', \"on't wast time here.\", 'otal letdown, would much rather go camelback flower shop cartel coffee.', \"hird, chees friend' burger cold.\", 'e enjoy pizza brunch.', 'steak well trim also perfectli cooked.', 'e group 70+ claim would 40 handl us beautifully.', 'love it!', 'e ask bill leav without eat bring either.', \"place jewel la vegas, exactli i'v hope find nearli ten year live here.\", 'eafood limit boil shrimp crab leg crab leg definit not tast fresh.', 'select food not best.', 'elici absolut back!', 'small famili restaurant, fine dine establishment.', 'hey toro tartar cavier extraordinari like thinli slice wagyu white truffle.', 'dont think back long time.', 'attach ga station, rare good sign.', 'ow awesom that.', 'back mani time soon.', 'menu much good stuff could not decide!', 'ors all, humili worker right front me..bunch horribl name callings.', 'onclusion: fill meals.', 'heir daili special alway hit group.', 'nd tragedi struck.', 'pancak also realli good pretti larg that.', 'first crawfish experience, delicious!', 'heir monster chicken fri steak egg time favorite.', 'aitress sweet funny.', \"also tast mom' multi-grain pumpkin pancak pecan butter amazing, fluffy, delicious!\", \"'d rather eat airlin food, seriously.\", 'ant say enough good thing place.', 'ambianc incredible.', 'waitress manag friendly.', 'would not recommend place.', 'veral impress noca.', 'gyro basic lettuc only.', 'erribl service!', 'horoughli disappointed!', 'much pasta, love homemad /hand made pasta thin pizza here.', 'ive try, happi did.', 'far best cheesecurd ever had!', 'eason price also!', 'veryth perfect night in.', 'food good typic bar food.', 'drive get there.', 'first glanc love bakeri cafe - nice ambiance, clean, friendli staff.', 'nyway, not think go back there.', 'oint finger item menu, order disappointed.', 'h thing beauty, restaurant.', 'f gone go now!', 'greasy, unhealthi meal.', 'irst time might last.', 'hose burger amazing.', 'imilarly, deliveri man not say word apolog food 45 minut late.', 'nd way expensive.', 'e sure order dessert, even need pack to-go - tiramisu cannoli die for.', \"first time can't wait next.\", 'bartend also nice.', 'veryth good tasty!', 'place two thumb up....way up.', 'best place vega breakfast (just check sat, sun.', 'f love authent mexican food want whole bunch interesting, yet delici meat choos from, need tri place.', 'erribl management.', 'n excel new restaur experienc frenchman.', 'f zero star would give zero stars.', 'reat steak, great sides, great wine, amaz desserts.', 'orst martini ever!', 'steak shrimp opinion best entre gc.', 'opportun today sampl amaz pizzas!', 'e wait thirti minut seat (although 8 vacant tabl folk waiting).', 'yellowtail carpaccio melt mouth fresh.', 'tri go back even empty.', \"o, i'm go eat potato found stranger hair it.\", 'ust spici enough.. perfect actually.', 'ast night second time dine happi decid go back!', 'ot even \"hello, right you.\"', 'dessert bit strange.', 'boyfriend came first time recent trip vega could not pleas qualiti food service.', 'realli recommend place, go wrong donut place!', 'ice ambiance.', 'would recommend save room this!', 'guess mayb went night disgraceful.', 'owever, recent experi particular locat not good.', 'know not like restaur all, someth here!', 'void establishment!', 'think restaur suffer not tri hard enough.', 'tapa dish delicious!', '*heart* place.', 'salad bland vinegrett babi green heart palm.', 'fter two felt disgusting.', 'good time!', 'believ place great stop huge belli hanker sushi.', 'ener portion great taste.', 'never go back place never ever recommend place anyone!', 'server went back forth sever times, not even much \"are helped?\"', 'ood delicious!', 'n hour... seriously?', 'consid theft.', 'ew... locat need complet overhaul.', 'e recent wit poor qualiti manag toward guest well.', 'ait wait waited.', 'e also came back check us regularly, excel service.', 'ur server super nice check us mani times.', 'pizza tast old, super chewi not good way.', 'swung give tri deepli disappointed.', 'ervic good compani better!', 'staff also friendli efficient.', \"service: i'm fan, quick serv nice folks.\", 'oy sucker dry!!.', 'ver rated.', 'f look authent thai food, go els where.', 'heir steak 100% recommended!', 'fter pull car wait anoth 15 minut acknowledged.', 'reat food great servic clean friendli setting.', \"all, assur i'll back.\", 'hate thing much cheap qualiti black olives.', 'breakfast perpar great, beauti present 3 giant slice toast, lightli dust powder sugar.', 'kid play area nasty!', 'reat place fo take eat in.', 'waitress friendli happi accomod vegan/veggi options.', 'mg felt like never eaten thai food dish.', 'extrem \"crumby\" pretti tasteless.', 'pale color instead nice char flavor.', 'crouton also tast homemad extra plus.', 'got home see driest damn wing ever!', \"t'll regular stop trip phoenix!\", 'realli enjoy crema café expanded. even told friend best breakfast.', 'ot good money.', 'miss wish one philadelphia!', 'e got sit fairli fast, but, end wait 40 minut place order, anoth 30 minut food arrived.', 'hey also best chees crisp town.', 'ood value, great food, great service.', \"ouldn't ask satisfi meal.\", 'food good.', 'awesome.', 'want leave.', 'e made drive way north scottsdale... not one bit disappointed!', 'not eat again.', '!....the owner realli realli need quit soooooo cheap let wrap freak sandwich two paper not one!', 'check place coupl year ago not impressed.', 'chicken got definit reheat ok, wedg cold soggy.', 'orry, not get food anytim soon :(', 'n absolut must visit!', 'cow tongu cheek taco amazing.', 'friend not like bloodi mary.', 'espit hard rate businesses, actual rare give 1 star.', 'hey realli want make experi good one.', 'not return.', 'chicken pho tast bland.', 'eri disappointing!!!', 'grill chicken tender yellow saffron seasoning.', 'drive thru mean not want wait around half hour food, somehow end go make us wait wait.', 'retti awesom place.', 'mbienc perfect.', 'est luck rude non-custom servic focus new management.', 'ny grandmoth make roast chicken better one.', 'ask multipl time wine list time ignor went hostess got one myself.', 'staff alway super friendli helpful, especi cool bring two small boy baby!', 'star food & guy blue shirt great vibe & still let us eat !', 'roast beef sandwich tast realli good!', 'ame evening, drastic sick.', 'igh-qual chicken chicken caesar salad.', \"rdere burger rare came we'll done.\", 'e promptli greet seated.', 'rie go lunch madhouse.', 'proven dead wrong sushi bar, not qualiti great, servic fast food, impeccable.', 'fter wait hour seated, not greatest moods.', 'good joint.', 'macaron insan good.', \"'m not eat here!\", 'ur waiter attentive, friendly, informative.', 'ayb cold would somewhat edible.', 'place lot promis fail deliver.', 'eri bad experience!', 'hat mistake.', 'ood averag best.', 'reat food.', 'e go back anytim soon!', 'eri disappoint order $35 big bay plater.', 'reat place relax awesom burger beer.', 'perfect sit-down famili meal get togeth friends.', 'ot much flavor them, poorli constructed.', 'patio seat comfortable.', 'fri rice dri well.', 'and favorit italian restaurant!', 'hat scream \"legit\" book...somethat\\' also pretti rare vegas.', 'not fun experience.', 'atmospher great love duo violinist play song requested.', \"person love hummus, pita, baklava, falafel baba ganoush (it' amaz eggplant!).\", 'eri convenient, sinc stay mgm!', 'owner super friendli staff courteous.', 'oth great!', 'clectic selection.', 'sweet potato tot good onion ring perfect close had.', 'staff attentive.', 'nd chef gener time (even came around twice take pictur him).', 'owner use work nobu, place realli similar half price.', 'oogl mediocr imagin smashburg pop up.', 'ont go here.', 'promis disappoint.', 'sushi lover avoid place means.', 'hat great doubl cheeseburger!', 'wesom servic food.', 'fantast neighborhood gem !!!', \"can't wait go back.\", \"plantain worst i'v ever tasted.\", \"t' great place highli recommend it.\", 'ervic slow not attentive.', \"gave 5 star then, i'm give 5 star now.\", 'staff spend time talk me.', 'essert: panna cotta amazing.', 'eri good food, great atmosphere.1', 'amn good steak.', 'otal brunch fail.', 'rice reasonable, flavor spot on, sauc home made, slaw not drench mayo.', 'decor nice, piano music soundtrack pleasant.', 'steak amazing...rg fillet relleno best seafood plate ever had!', 'ood food , good servic .', 'absolut amazing.', 'probabl back, honest.', 'ill definit back!', 'sergeant pepper beef sandwich auju sauc excel sandwich well.', \"awaiian breeze, mango magic, pineappl delight smoothi i'v tri far they'r good.\", 'ent lunch - servic slow.', 'e much say place walk expect amazing, quickli disappointed.', 'mortified.', 'eedless say, never back again.', 'nyways, food definit not fill all, price pay expect more.', 'chip came drip grease, mostli not edible.', 'realli impress strip steak.', 'ave go sinc 2007 everi meal awesome!!', 'ur server nice attent serv staff.', 'cashier friendli even brought food me.', 'work hospit industri paradis valley refrain recommend cibo longer.', 'atmospher fun.', 'ould not recommend others.', 'ervic quick even \"to go\" order like like it!', 'mean really, get famou fish chip terrible!?!', 'hat said, mouth belli still quit pleased.', 'ot thing.', '2 thumb up!!', 'f read pleas go there.', 'love grill pizza, remind legit italian pizza.', 'nli pro : larg seat area/ nice bar area/ great simpl drink menu/ best brick oven pizza homemad dough!', 'hey realli nice atmosphere.', 'onight elk filet special...and sucked.', 'fter one bite, hooked.', 'e order old classic new dish go time sore disappoint everything.', 'ute, quaint, simple, honest.', 'chicken delici season perfect fri outsid moist chicken inside.', 'food great always, compliment chef.', 'pecial thank dylan t. recommend order :) yummi tummy.', 'wesom select beer.', 'reat food awesom service!', 'ne nice thing ad gratuiti bill sinc parti larger 6 8, expect tip that.', 'fli appl juice.. fly!!!!!!!!', 'han nan chicken also tasty.', 'service, thought good.', 'food bare lukewarm, must sit wait server bring us.', \"yan' bar definit one edinburgh establish revisiting.\", \"icest chines restaur i'v while.\", 'verall, like food service.', 'hey also serv indian naan bread hummu spici pine nut sauc world.', 'robabl never come back, recommend it.', \"riend' pasta -- also bad, bare touch it.\", 'ry airport experi tasti food speedy, friendli service.', 'love decor chines calligraphi wall paper.', 'ever anyth complain here.', 'restaur clean famili restaur feel it.', 'way fried.', \"'m not sure long stood long enough begin feel awkwardli place.\", 'hen open sandwich, impressed, not good way.', 'ill not back!', 'warm feel servic felt like guest special treat.', 'n extens menu provid lot option breakfast.', 'alway order vegetarian menu dinner, wide array option choos from.', 'watch price inflate, portion get smaller manag attitud grow rapidly!', 'onder lil tapa ambienc made feel warm fuzzi inside.', 'got enjoy seafood salad, fabul vinegrette.', 'wonton thin, not thick chewy, almost melt mouth.', 'evel 5 spici perfect, spice over-whelm soup.', 'e sat right time server get go fantastic!', 'thing enjoy crowd older crowd, around mid 30 up.', \"hen i'm side town, definit spot i'll hit again!\", 'wait 30 minut get drink longer get 2 arepas.', 'great place eat!', 'jalapeno bacon soooo good.', 'servic poor that nice.', 'ood good, servic good, price good.', 'place not clean food oh stale!', 'chicken dish ok, beef like shoe leather.', 'ut servic beyond bad.', '\\'m happi here!!!\"', 'ast like dirt.', 'ne place phoenix would defin go back .', 'block amazing.', \"t' close house, low-key, non-fancy, afford prices, good food.\", '* hot & sour & egg flower soup absolut 5 stars!', 'sashimi poor qualiti soggi tasteless.', 'reat time - famili dinner sunday night.', 'food not tasti all, not say \"real tradit hunan style\".', 'hat bother me, slow service.', 'flair bartend absolut amazing!', 'heir frozen margarita way sugari taste.', 'hese good order twice.', 'nutshell: 1) restaraunt smell like combin dirti fish market sewer.', \"girlfriend' veal bad.\", 'nfortunately, not good.', 'pretti satifi experience.', 'oin club get awesom offer via email.', 'erfect someon (me) like beer ice cold, case, even colder.', 'land flavorless good way describ bare tepid meat.', \"chains, i'm fan of, beat place easily.\", 'nacho must have!', 'e not come back.', 'mani word say place, everyth pretti well.', 'staff super nice quick even crazi crowd downtown juries, lawyers, court staff.', 'reat atmosphere, friendli fast service.', 'hen receiv pita huge lot meat thumb there.', 'nce food arriv meh.', \"aye $7.85 hot dog fri look like came kid' meal wienerschnitzel not idea good meal.\", 'classic main lobster roll fantastic.', 'brother law work mall ate day, guess sick night too.', 'good go review place twice - herea tribut place tribut event held last night.', 'chip salsa realli good, salsa fresh.', 'place great!!!!!!!!!!!!!!', 'ediocr food.', 'nce get insid impress place.', \"'m super pissd.\", 'nd servic super friendly.', 'hy sad littl veget overcooked?', 'place nice surprise!', 'hey golden-crispi delicious.', 'high hope place sinc burger cook charcoal grill, unfortun tast fell flat, way flat.', 'could eat bruschetta day devine.', 'ot singl employe came see ok even need water refil final serv us food.', 'astly, mozzarella sticks, best thing ordered.', 'first time ever came amaz experience, still tell peopl awesom duck was.', 'server neglig need made us feel unwelcome... would not suggest place!', 'servic terribl though.', 'place overpriced, not consist boba, realli overpriced!', 'packed!!', 'love place.', 'say dessert yummy.', 'food terrible.', 'season fruit fresh white peach puree.', \"kept get wors wors i'm offici done.\", 'place honestli blown up.', 'ut definit would not eat again.', 'not wast money here!', 'love put food nice plastic contain oppos cram littl paper takeout boxes.', 'crêpe delic thin moist.', 'wful service.', \"on't ever go again.\", 'ood qualiti horrible.', 'price think place would much rather gone.', 'servic fair best.', 'love sushi, found kabuki over-priced, over-hip under-services.', 'favor stay away dish.', 'eri poor service.', 'one tabl thought food averag worth wait it.', 'est servic food ever, maria server good friendli made day.', 'hey excellent.', 'paid bill not tip felt server terribl job.', 'ust lunch great experience.', 'never bland food surpris consid articl read focus much spice flavor.', 'ood way overpr portion fuck small.', \"recent tri caballero' back everi week since!\", '40 buck head, realli expect better food.', 'food came good pace.', 'ate twice last visit, especi enjoy salmon salad.', 'back.', 'e could not believ dirti oyster were!', 'place deserv stars.', 'would not recommend place.', \"n fact i'm go round 4 stars, awesome.\", 'disbelief, dish qualifi worst version food ever tasted.', 'ad day not, low toler rude custom servic people, job nice polite, wash dish otherwise!!', 'potato great biscuit.', 'probabl would not go again.', 'flavor perfect amount heat.', 'price reason servic great.', 'wife hate meal (coconut shrimp), friend realli not enjoy meals, either.', 'fella got huevo ranchero look appealing.', 'ent happi hour, great list wines.', 'ome may say buffet pricey think get pay place get quit lot!', 'probabl come back here.', \"orst food/servic i'v while.\", 'place pretti good, nice littl vibe restaurant.', 'alk great custom servic cours back.', 'ot dish not hot, cold dish close room temp.i watch staff prepar food bare hands, gloves.everyth deep fri oil.', 'love fri beans.', 'lway pleasur deal him.', \"hey plethora salad sandwiches, everyth i'v tri get seal approval.\", 'place awesom want someth light healthi summer.', 'sushi strip, place go.', 'servic great, even manag came help table.', 'feel dine room colleg cook cours high class dine servic slow best.', \"start review two stars, i'm edit give one.\", \"worst sushi ever eat besid costco's.\", 'excel restaur highlight great service, uniqu menu, beauti setting.', 'boyfriend sat bar complet delight experience.', 'eird vibe owners.', 'hardli meat.', \"'ve better bagel groceri store.\", 'place gyros.', 'love owner/chef, one authent japanes cool dude!', 'ow burger good, pizza use amaz doughi flavorless.', 'found six inch long piec wire salsa.', 'servic terrible, food mediocre.', 'e defin enjoy ourselves.', 'order albondiga soup - warm - tast like tomato soup frozen meatballs.', 'n three differ occas ask well done medium well, three time got bloodiest piec meat plate.', 'two bite refus eat anymore.', 'servic extrem slow.', 'fter 20 minut wait, got table.', 'erious killer hot chai latte.', 'allergi warn menu, waitress absolut clue meal not contain peanuts.', 'boyfriend tri mediterranean chicken salad fell love.', 'heir rotat beer tap also highlight place.', 'rice bit concern mellow mushroom.', 'orst thai ever.', 'f stay vega must get breakfast least once.', 'want first say server great perfect service.', 'pizza select good.', 'strawberri tea, good.', 'ighli unprofession rude loyal patron!', 'verall, great experience.', 'pend money elsewhere.', 'heir regular toast bread equal satisfi occasion pat butter... mmmm...!', 'buffet bellagio far anticipated.', 'nd drink weak, people!', '-mi order not correct.', 'lso, feel like chip bought, not made house.', 'fter disappoint dinner went elsewher dessert.', 'chip sal amazing!!!!!!!!!!!!!!!!!!!', 'e returning.', 'new fav vega buffet spot.', 'serious cannot believ owner mani unexperienc employe run around like chicken head cut off.', 'ery, sad.', 'felt insult disrespected, could talk judg anoth human like that?', \"ow call steakhous can't properli cook steak, understand!\", \"'m not impress concept food.\", 'thing crazi guacamol like puréed.', 'realli noth postinos, hope experi better', 'got food poison buffet.', 'hey brought fresh batch fri think yay someth warm no!', 'hat hilarious, yummi christma eve dinner rememb biggest fail entir trip us.', 'eedless say, go back anytim soon.', 'place disgusting!', 'time eat here, see care teamwork profession degree.', 'ri style calamari joke.', 'owever, much garlic fondue, bare edible.', 'could bare stomach meal, complain busi lunch.', 'bad, lost heart finish it.', 'also took forev bring us check ask it.', 'e one make scene restaur get it...definit lost love one!', 'isappoint experience.', \"food par denny's, say, not good all.\", 'f want wait mediocr food downright terribl service, place you.', 'aaaaaayyyyyyyyyi rate saying.', 'e go back.', 'place fairli clean food simpli worth it.', 'place lack style!!', 'sangria half glass wine full $12, ridiculous.', \"on't bother come here.\", 'meat pretti dry, slice brisket pull pork.', 'build seem pretti neat, bathroom pretti trippy, eat again.', 'equal awful.', 'robabl not hurri go back.', 'eri slow seat even reservation.', 'ot good stretch imagination.', 'cashew cream sauc bland veget undercooked.', 'chipolt ranch dip saus tasteless, seem thin water heat.', 'bit sweet, not realli spici enough, lack flavor.', 'disappointed!!', 'place horribl way overpriced.', \"ayb vegetarian fare, i'v twice thought averag best.\", 'busi know why.', 'tabl outsid also dirti lot time worker not alway friendli help menu.', 'ambianc not feel like buffet setting, douchey indoor garden tea biscuits.', 'on: spotti service.', 'fri not hot, neither burger.', 'ut came back cold.', 'hen food came out, disappoint ensued.', 'real disappoint waiter.', 'husband said rude... not even apolog bad food anything.', 'reason eat would fill night bing drink get carb stomach.', 'nsults, profound deuchebaggery, go outsid smoke break serv solidifi it.', \"f someon order two taco don't' think may part custom servic ask combo ala cart?\", 'quit disappoint although blame need place door.', 'fter rave review wait eat here......what disappointment!', 'el taco pretti nasti avoid possible.', \"t' not hard make decent hamburger.\", 'ut like it.', 'ell go back', \"e'v gotten much better servic pizza place next door servic receiv restaurant.\", 'know big deal place, back \"ya\\'all\".', 'immedi said want talk manag not want talk guy shot firebal behind bar.', 'ambianc much better.', 'nfortunately, set us disapppoint entrees.', 'food good.', 'server suck, wait, correction, server heimer sucked.', 'hat happen next pretty....off putting.', 'oo bad caus know famili owned, realli want like place.', 'verpric getting.', 'vomit bathroom mid lunch.', 'kept look time soon becom 35 minutes, yet still food.', 'place eat circumst would ever return to, top list.', 'e start tuna sashimi brownish color obvious fresh.', 'ood average.', 'sure beat nacho movi would expect littl bit come restaurant.', 'all, ha long bay bit flop.', 'problem charg $11.99 sandwich bigger subway sub (which offer better amount vegetables).', 'hrimp- unwrap (i live 1/2 mile brushfire) liter ice cold.', 'lack flavor, seem undercooked, dry.', 'realli impress place close down.', 'would avoid place stay mirage.', 'refri bean came meal dri crusti food bland.', 'pend money time place else.', 'ladi tabl next us found live green caterpillar salad.', 'present food awful.', \"can't tell disappoint was.\", 'think food flavor textur lacking.', 'ppetit instantli gone.', 'veral not impress would not go back.', \"whole experi underwhelming, think we'll go ninja sushi next time.\", 'hen, wast enough life there, pour salt wound draw time took bring check.']\n"
     ]
    }
   ],
   "source": [
    "print(corpus)"
   ]
  },
  {
   "cell_type": "code",
   "execution_count": 26,
   "id": "d476d0e3",
   "metadata": {},
   "outputs": [],
   "source": [
    "from sklearn.feature_extraction.text import CountVectorizer"
   ]
  },
  {
   "cell_type": "code",
   "execution_count": 27,
   "id": "2093c843",
   "metadata": {},
   "outputs": [],
   "source": [
    "cv = CountVectorizer(max_features=1500)"
   ]
  },
  {
   "cell_type": "code",
   "execution_count": 28,
   "id": "fe3d0b7e",
   "metadata": {},
   "outputs": [
    {
     "data": {
      "text/html": [
       "<div>\n",
       "<style scoped>\n",
       "    .dataframe tbody tr th:only-of-type {\n",
       "        vertical-align: middle;\n",
       "    }\n",
       "\n",
       "    .dataframe tbody tr th {\n",
       "        vertical-align: top;\n",
       "    }\n",
       "\n",
       "    .dataframe thead th {\n",
       "        text-align: right;\n",
       "    }\n",
       "</style>\n",
       "<table border=\"1\" class=\"dataframe\">\n",
       "  <thead>\n",
       "    <tr style=\"text-align: right;\">\n",
       "      <th></th>\n",
       "      <th>Review</th>\n",
       "      <th>Liked</th>\n",
       "      <th>Length</th>\n",
       "    </tr>\n",
       "  </thead>\n",
       "  <tbody>\n",
       "    <tr>\n",
       "      <th>0</th>\n",
       "      <td>Wow... Loved this place.</td>\n",
       "      <td>1</td>\n",
       "      <td>24</td>\n",
       "    </tr>\n",
       "    <tr>\n",
       "      <th>1</th>\n",
       "      <td>Crust is not good.</td>\n",
       "      <td>0</td>\n",
       "      <td>18</td>\n",
       "    </tr>\n",
       "    <tr>\n",
       "      <th>2</th>\n",
       "      <td>Not tasty and the texture was just nasty.</td>\n",
       "      <td>0</td>\n",
       "      <td>41</td>\n",
       "    </tr>\n",
       "    <tr>\n",
       "      <th>3</th>\n",
       "      <td>Stopped by during the late May bank holiday of...</td>\n",
       "      <td>1</td>\n",
       "      <td>87</td>\n",
       "    </tr>\n",
       "    <tr>\n",
       "      <th>4</th>\n",
       "      <td>The selection on the menu was great and so wer...</td>\n",
       "      <td>1</td>\n",
       "      <td>59</td>\n",
       "    </tr>\n",
       "  </tbody>\n",
       "</table>\n",
       "</div>"
      ],
      "text/plain": [
       "                                              Review  Liked  Length\n",
       "0                           Wow... Loved this place.      1      24\n",
       "1                                 Crust is not good.      0      18\n",
       "2          Not tasty and the texture was just nasty.      0      41\n",
       "3  Stopped by during the late May bank holiday of...      1      87\n",
       "4  The selection on the menu was great and so wer...      1      59"
      ]
     },
     "execution_count": 28,
     "metadata": {},
     "output_type": "execute_result"
    }
   ],
   "source": [
    "dataset.head()"
   ]
  },
  {
   "cell_type": "code",
   "execution_count": 29,
   "id": "fbe9d5ff",
   "metadata": {},
   "outputs": [],
   "source": [
    "x=cv.fit_transform(corpus).toarray()\n",
    "y=dataset.iloc[:,1]"
   ]
  },
  {
   "cell_type": "code",
   "execution_count": 30,
   "id": "3c08073d",
   "metadata": {},
   "outputs": [
    {
     "data": {
      "text/plain": [
       "(1000, 1500)"
      ]
     },
     "execution_count": 30,
     "metadata": {},
     "output_type": "execute_result"
    }
   ],
   "source": [
    "x.shape"
   ]
  },
  {
   "cell_type": "code",
   "execution_count": 31,
   "id": "2e79bef5",
   "metadata": {},
   "outputs": [
    {
     "data": {
      "text/plain": [
       "(1000,)"
      ]
     },
     "execution_count": 31,
     "metadata": {},
     "output_type": "execute_result"
    }
   ],
   "source": [
    "y.shape"
   ]
  },
  {
   "cell_type": "code",
   "execution_count": 32,
   "id": "ec856cf5",
   "metadata": {},
   "outputs": [],
   "source": [
    "from sklearn.model_selection import train_test_split\n",
    "x_train,x_test,y_train,y_test=train_test_split(x,y,test_size=0.2)"
   ]
  },
  {
   "cell_type": "code",
   "execution_count": 33,
   "id": "f7e8b1fe",
   "metadata": {},
   "outputs": [
    {
     "data": {
      "text/plain": [
       "(800, 1500)"
      ]
     },
     "execution_count": 33,
     "metadata": {},
     "output_type": "execute_result"
    }
   ],
   "source": [
    "x_train.shape"
   ]
  },
  {
   "cell_type": "code",
   "execution_count": 34,
   "id": "a47c0cae",
   "metadata": {},
   "outputs": [
    {
     "data": {
      "text/plain": [
       "(800,)"
      ]
     },
     "execution_count": 34,
     "metadata": {},
     "output_type": "execute_result"
    }
   ],
   "source": [
    "y_train.shape"
   ]
  },
  {
   "cell_type": "code",
   "execution_count": 35,
   "id": "5d7e3e34",
   "metadata": {},
   "outputs": [
    {
     "data": {
      "text/plain": [
       "(200, 1500)"
      ]
     },
     "execution_count": 35,
     "metadata": {},
     "output_type": "execute_result"
    }
   ],
   "source": [
    "x_test.shape"
   ]
  },
  {
   "cell_type": "code",
   "execution_count": 36,
   "id": "1a200bb5",
   "metadata": {},
   "outputs": [
    {
     "data": {
      "text/plain": [
       "(200,)"
      ]
     },
     "execution_count": 36,
     "metadata": {},
     "output_type": "execute_result"
    }
   ],
   "source": [
    "y_test.shape"
   ]
  },
  {
   "cell_type": "code",
   "execution_count": 37,
   "id": "981b4a5f",
   "metadata": {},
   "outputs": [
    {
     "data": {
      "text/html": [
       "<style>#sk-container-id-1 {color: black;background-color: white;}#sk-container-id-1 pre{padding: 0;}#sk-container-id-1 div.sk-toggleable {background-color: white;}#sk-container-id-1 label.sk-toggleable__label {cursor: pointer;display: block;width: 100%;margin-bottom: 0;padding: 0.3em;box-sizing: border-box;text-align: center;}#sk-container-id-1 label.sk-toggleable__label-arrow:before {content: \"▸\";float: left;margin-right: 0.25em;color: #696969;}#sk-container-id-1 label.sk-toggleable__label-arrow:hover:before {color: black;}#sk-container-id-1 div.sk-estimator:hover label.sk-toggleable__label-arrow:before {color: black;}#sk-container-id-1 div.sk-toggleable__content {max-height: 0;max-width: 0;overflow: hidden;text-align: left;background-color: #f0f8ff;}#sk-container-id-1 div.sk-toggleable__content pre {margin: 0.2em;color: black;border-radius: 0.25em;background-color: #f0f8ff;}#sk-container-id-1 input.sk-toggleable__control:checked~div.sk-toggleable__content {max-height: 200px;max-width: 100%;overflow: auto;}#sk-container-id-1 input.sk-toggleable__control:checked~label.sk-toggleable__label-arrow:before {content: \"▾\";}#sk-container-id-1 div.sk-estimator input.sk-toggleable__control:checked~label.sk-toggleable__label {background-color: #d4ebff;}#sk-container-id-1 div.sk-label input.sk-toggleable__control:checked~label.sk-toggleable__label {background-color: #d4ebff;}#sk-container-id-1 input.sk-hidden--visually {border: 0;clip: rect(1px 1px 1px 1px);clip: rect(1px, 1px, 1px, 1px);height: 1px;margin: -1px;overflow: hidden;padding: 0;position: absolute;width: 1px;}#sk-container-id-1 div.sk-estimator {font-family: monospace;background-color: #f0f8ff;border: 1px dotted black;border-radius: 0.25em;box-sizing: border-box;margin-bottom: 0.5em;}#sk-container-id-1 div.sk-estimator:hover {background-color: #d4ebff;}#sk-container-id-1 div.sk-parallel-item::after {content: \"\";width: 100%;border-bottom: 1px solid gray;flex-grow: 1;}#sk-container-id-1 div.sk-label:hover label.sk-toggleable__label {background-color: #d4ebff;}#sk-container-id-1 div.sk-serial::before {content: \"\";position: absolute;border-left: 1px solid gray;box-sizing: border-box;top: 0;bottom: 0;left: 50%;z-index: 0;}#sk-container-id-1 div.sk-serial {display: flex;flex-direction: column;align-items: center;background-color: white;padding-right: 0.2em;padding-left: 0.2em;position: relative;}#sk-container-id-1 div.sk-item {position: relative;z-index: 1;}#sk-container-id-1 div.sk-parallel {display: flex;align-items: stretch;justify-content: center;background-color: white;position: relative;}#sk-container-id-1 div.sk-item::before, #sk-container-id-1 div.sk-parallel-item::before {content: \"\";position: absolute;border-left: 1px solid gray;box-sizing: border-box;top: 0;bottom: 0;left: 50%;z-index: -1;}#sk-container-id-1 div.sk-parallel-item {display: flex;flex-direction: column;z-index: 1;position: relative;background-color: white;}#sk-container-id-1 div.sk-parallel-item:first-child::after {align-self: flex-end;width: 50%;}#sk-container-id-1 div.sk-parallel-item:last-child::after {align-self: flex-start;width: 50%;}#sk-container-id-1 div.sk-parallel-item:only-child::after {width: 0;}#sk-container-id-1 div.sk-dashed-wrapped {border: 1px dashed gray;margin: 0 0.4em 0.5em 0.4em;box-sizing: border-box;padding-bottom: 0.4em;background-color: white;}#sk-container-id-1 div.sk-label label {font-family: monospace;font-weight: bold;display: inline-block;line-height: 1.2em;}#sk-container-id-1 div.sk-label-container {text-align: center;}#sk-container-id-1 div.sk-container {/* jupyter's `normalize.less` sets `[hidden] { display: none; }` but bootstrap.min.css set `[hidden] { display: none !important; }` so we also need the `!important` here to be able to override the default hidden behavior on the sphinx rendered scikit-learn.org. See: https://github.com/scikit-learn/scikit-learn/issues/21755 */display: inline-block !important;position: relative;}#sk-container-id-1 div.sk-text-repr-fallback {display: none;}</style><div id=\"sk-container-id-1\" class=\"sk-top-container\"><div class=\"sk-text-repr-fallback\"><pre>GaussianNB()</pre><b>In a Jupyter environment, please rerun this cell to show the HTML representation or trust the notebook. <br />On GitHub, the HTML representation is unable to render, please try loading this page with nbviewer.org.</b></div><div class=\"sk-container\" hidden><div class=\"sk-item\"><div class=\"sk-estimator sk-toggleable\"><input class=\"sk-toggleable__control sk-hidden--visually\" id=\"sk-estimator-id-1\" type=\"checkbox\" checked><label for=\"sk-estimator-id-1\" class=\"sk-toggleable__label sk-toggleable__label-arrow\">GaussianNB</label><div class=\"sk-toggleable__content\"><pre>GaussianNB()</pre></div></div></div></div></div>"
      ],
      "text/plain": [
       "GaussianNB()"
      ]
     },
     "execution_count": 37,
     "metadata": {},
     "output_type": "execute_result"
    }
   ],
   "source": [
    "from sklearn.naive_bayes import GaussianNB\n",
    "classifier_nb = GaussianNB()\n",
    "classifier_nb.fit(x_train,y_train)"
   ]
  },
  {
   "cell_type": "code",
   "execution_count": 38,
   "id": "eb00cdc4",
   "metadata": {},
   "outputs": [],
   "source": [
    "y_pred=classifier_nb.predict(x_test)"
   ]
  },
  {
   "cell_type": "code",
   "execution_count": 39,
   "id": "c53a4c85",
   "metadata": {},
   "outputs": [],
   "source": [
    "from sklearn.metrics import accuracy_score,confusion_matrix"
   ]
  },
  {
   "cell_type": "code",
   "execution_count": 40,
   "id": "e946992b",
   "metadata": {},
   "outputs": [
    {
     "data": {
      "text/plain": [
       "0.71"
      ]
     },
     "execution_count": 40,
     "metadata": {},
     "output_type": "execute_result"
    }
   ],
   "source": [
    "accuracy_score(y_test,y_pred)"
   ]
  },
  {
   "cell_type": "code",
   "execution_count": 41,
   "id": "d2ca7707",
   "metadata": {},
   "outputs": [
    {
     "data": {
      "text/plain": [
       "array([[50, 44],\n",
       "       [14, 92]], dtype=int64)"
      ]
     },
     "execution_count": 41,
     "metadata": {},
     "output_type": "execute_result"
    }
   ],
   "source": [
    "confusion_matrix(y_test,y_pred)"
   ]
  },
  {
   "cell_type": "code",
   "execution_count": 42,
   "id": "43c29da5",
   "metadata": {},
   "outputs": [
    {
     "name": "stderr",
     "output_type": "stream",
     "text": [
      "C:\\anaconda3\\lib\\site-packages\\xgboost\\sklearn.py:1224: UserWarning: The use of label encoder in XGBClassifier is deprecated and will be removed in a future release. To remove this warning, do the following: 1) Pass option use_label_encoder=False when constructing XGBClassifier object; and 2) Encode your labels (y) as integers starting with 0, i.e. 0, 1, 2, ..., [num_class - 1].\n",
      "  warnings.warn(label_encoder_deprecation_msg, UserWarning)\n"
     ]
    },
    {
     "name": "stdout",
     "output_type": "stream",
     "text": [
      "[21:14:19] WARNING: ..\\src\\learner.cc:1115: Starting in XGBoost 1.3.0, the default evaluation metric used with the objective 'binary:logistic' was changed from 'error' to 'logloss'. Explicitly set eval_metric if you'd like to restore the old behavior.\n"
     ]
    },
    {
     "data": {
      "text/html": [
       "<style>#sk-container-id-2 {color: black;background-color: white;}#sk-container-id-2 pre{padding: 0;}#sk-container-id-2 div.sk-toggleable {background-color: white;}#sk-container-id-2 label.sk-toggleable__label {cursor: pointer;display: block;width: 100%;margin-bottom: 0;padding: 0.3em;box-sizing: border-box;text-align: center;}#sk-container-id-2 label.sk-toggleable__label-arrow:before {content: \"▸\";float: left;margin-right: 0.25em;color: #696969;}#sk-container-id-2 label.sk-toggleable__label-arrow:hover:before {color: black;}#sk-container-id-2 div.sk-estimator:hover label.sk-toggleable__label-arrow:before {color: black;}#sk-container-id-2 div.sk-toggleable__content {max-height: 0;max-width: 0;overflow: hidden;text-align: left;background-color: #f0f8ff;}#sk-container-id-2 div.sk-toggleable__content pre {margin: 0.2em;color: black;border-radius: 0.25em;background-color: #f0f8ff;}#sk-container-id-2 input.sk-toggleable__control:checked~div.sk-toggleable__content {max-height: 200px;max-width: 100%;overflow: auto;}#sk-container-id-2 input.sk-toggleable__control:checked~label.sk-toggleable__label-arrow:before {content: \"▾\";}#sk-container-id-2 div.sk-estimator input.sk-toggleable__control:checked~label.sk-toggleable__label {background-color: #d4ebff;}#sk-container-id-2 div.sk-label input.sk-toggleable__control:checked~label.sk-toggleable__label {background-color: #d4ebff;}#sk-container-id-2 input.sk-hidden--visually {border: 0;clip: rect(1px 1px 1px 1px);clip: rect(1px, 1px, 1px, 1px);height: 1px;margin: -1px;overflow: hidden;padding: 0;position: absolute;width: 1px;}#sk-container-id-2 div.sk-estimator {font-family: monospace;background-color: #f0f8ff;border: 1px dotted black;border-radius: 0.25em;box-sizing: border-box;margin-bottom: 0.5em;}#sk-container-id-2 div.sk-estimator:hover {background-color: #d4ebff;}#sk-container-id-2 div.sk-parallel-item::after {content: \"\";width: 100%;border-bottom: 1px solid gray;flex-grow: 1;}#sk-container-id-2 div.sk-label:hover label.sk-toggleable__label {background-color: #d4ebff;}#sk-container-id-2 div.sk-serial::before {content: \"\";position: absolute;border-left: 1px solid gray;box-sizing: border-box;top: 0;bottom: 0;left: 50%;z-index: 0;}#sk-container-id-2 div.sk-serial {display: flex;flex-direction: column;align-items: center;background-color: white;padding-right: 0.2em;padding-left: 0.2em;position: relative;}#sk-container-id-2 div.sk-item {position: relative;z-index: 1;}#sk-container-id-2 div.sk-parallel {display: flex;align-items: stretch;justify-content: center;background-color: white;position: relative;}#sk-container-id-2 div.sk-item::before, #sk-container-id-2 div.sk-parallel-item::before {content: \"\";position: absolute;border-left: 1px solid gray;box-sizing: border-box;top: 0;bottom: 0;left: 50%;z-index: -1;}#sk-container-id-2 div.sk-parallel-item {display: flex;flex-direction: column;z-index: 1;position: relative;background-color: white;}#sk-container-id-2 div.sk-parallel-item:first-child::after {align-self: flex-end;width: 50%;}#sk-container-id-2 div.sk-parallel-item:last-child::after {align-self: flex-start;width: 50%;}#sk-container-id-2 div.sk-parallel-item:only-child::after {width: 0;}#sk-container-id-2 div.sk-dashed-wrapped {border: 1px dashed gray;margin: 0 0.4em 0.5em 0.4em;box-sizing: border-box;padding-bottom: 0.4em;background-color: white;}#sk-container-id-2 div.sk-label label {font-family: monospace;font-weight: bold;display: inline-block;line-height: 1.2em;}#sk-container-id-2 div.sk-label-container {text-align: center;}#sk-container-id-2 div.sk-container {/* jupyter's `normalize.less` sets `[hidden] { display: none; }` but bootstrap.min.css set `[hidden] { display: none !important; }` so we also need the `!important` here to be able to override the default hidden behavior on the sphinx rendered scikit-learn.org. See: https://github.com/scikit-learn/scikit-learn/issues/21755 */display: inline-block !important;position: relative;}#sk-container-id-2 div.sk-text-repr-fallback {display: none;}</style><div id=\"sk-container-id-2\" class=\"sk-top-container\"><div class=\"sk-text-repr-fallback\"><pre>XGBClassifier(base_score=0.5, booster=&#x27;gbtree&#x27;, colsample_bylevel=1,\n",
       "              colsample_bynode=1, colsample_bytree=1, enable_categorical=False,\n",
       "              gamma=0, gpu_id=-1, importance_type=None,\n",
       "              interaction_constraints=&#x27;&#x27;, learning_rate=0.300000012,\n",
       "              max_delta_step=0, max_depth=6, min_child_weight=1, missing=nan,\n",
       "              monotone_constraints=&#x27;()&#x27;, n_estimators=100, n_jobs=8,\n",
       "              num_parallel_tree=1, predictor=&#x27;auto&#x27;, random_state=0,\n",
       "              reg_alpha=0, reg_lambda=1, scale_pos_weight=1, subsample=1,\n",
       "              tree_method=&#x27;exact&#x27;, validate_parameters=1, verbosity=None)</pre><b>In a Jupyter environment, please rerun this cell to show the HTML representation or trust the notebook. <br />On GitHub, the HTML representation is unable to render, please try loading this page with nbviewer.org.</b></div><div class=\"sk-container\" hidden><div class=\"sk-item\"><div class=\"sk-estimator sk-toggleable\"><input class=\"sk-toggleable__control sk-hidden--visually\" id=\"sk-estimator-id-2\" type=\"checkbox\" checked><label for=\"sk-estimator-id-2\" class=\"sk-toggleable__label sk-toggleable__label-arrow\">XGBClassifier</label><div class=\"sk-toggleable__content\"><pre>XGBClassifier(base_score=0.5, booster=&#x27;gbtree&#x27;, colsample_bylevel=1,\n",
       "              colsample_bynode=1, colsample_bytree=1, enable_categorical=False,\n",
       "              gamma=0, gpu_id=-1, importance_type=None,\n",
       "              interaction_constraints=&#x27;&#x27;, learning_rate=0.300000012,\n",
       "              max_delta_step=0, max_depth=6, min_child_weight=1, missing=nan,\n",
       "              monotone_constraints=&#x27;()&#x27;, n_estimators=100, n_jobs=8,\n",
       "              num_parallel_tree=1, predictor=&#x27;auto&#x27;, random_state=0,\n",
       "              reg_alpha=0, reg_lambda=1, scale_pos_weight=1, subsample=1,\n",
       "              tree_method=&#x27;exact&#x27;, validate_parameters=1, verbosity=None)</pre></div></div></div></div></div>"
      ],
      "text/plain": [
       "XGBClassifier(base_score=0.5, booster='gbtree', colsample_bylevel=1,\n",
       "              colsample_bynode=1, colsample_bytree=1, enable_categorical=False,\n",
       "              gamma=0, gpu_id=-1, importance_type=None,\n",
       "              interaction_constraints='', learning_rate=0.300000012,\n",
       "              max_delta_step=0, max_depth=6, min_child_weight=1, missing=nan,\n",
       "              monotone_constraints='()', n_estimators=100, n_jobs=8,\n",
       "              num_parallel_tree=1, predictor='auto', random_state=0,\n",
       "              reg_alpha=0, reg_lambda=1, scale_pos_weight=1, subsample=1,\n",
       "              tree_method='exact', validate_parameters=1, verbosity=None)"
      ]
     },
     "execution_count": 42,
     "metadata": {},
     "output_type": "execute_result"
    }
   ],
   "source": [
    "from xgboost import XGBClassifier\n",
    "classifier_xgb=XGBClassifier()\n",
    "classifier_xgb.fit(x_train,y_train)"
   ]
  },
  {
   "cell_type": "code",
   "execution_count": 43,
   "id": "15db557c",
   "metadata": {},
   "outputs": [],
   "source": [
    "y_pred=classifier_xgb.predict(x_test)"
   ]
  },
  {
   "cell_type": "code",
   "execution_count": 44,
   "id": "45c9a8cb",
   "metadata": {},
   "outputs": [
    {
     "data": {
      "text/plain": [
       "0.735"
      ]
     },
     "execution_count": 44,
     "metadata": {},
     "output_type": "execute_result"
    }
   ],
   "source": [
    "accuracy_score(y_test,y_pred)"
   ]
  },
  {
   "cell_type": "code",
   "execution_count": 45,
   "id": "893a370f",
   "metadata": {},
   "outputs": [
    {
     "data": {
      "text/plain": [
       "array([[79, 15],\n",
       "       [38, 68]], dtype=int64)"
      ]
     },
     "execution_count": 45,
     "metadata": {},
     "output_type": "execute_result"
    }
   ],
   "source": [
    "confusion_matrix(y_test,y_pred)"
   ]
  },
  {
   "cell_type": "code",
   "execution_count": null,
   "id": "b4a684f9",
   "metadata": {},
   "outputs": [],
   "source": []
  },
  {
   "cell_type": "code",
   "execution_count": null,
   "id": "b60737f3",
   "metadata": {},
   "outputs": [],
   "source": []
  }
 ],
 "metadata": {
  "kernelspec": {
   "display_name": "Python 3 (ipykernel)",
   "language": "python",
   "name": "python3"
  },
  "language_info": {
   "codemirror_mode": {
    "name": "ipython",
    "version": 3
   },
   "file_extension": ".py",
   "mimetype": "text/x-python",
   "name": "python",
   "nbconvert_exporter": "python",
   "pygments_lexer": "ipython3",
   "version": "3.9.7"
  }
 },
 "nbformat": 4,
 "nbformat_minor": 5
}
